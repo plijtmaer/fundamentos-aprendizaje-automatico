{
 "cells": [
  {
   "cell_type": "code",
   "execution_count": 7,
   "id": "367921ef",
   "metadata": {},
   "outputs": [],
   "source": [
    "from lazypredict.Supervised import LazyClassifier\n",
    "from sklearn.model_selection import train_test_split\n",
    "import pandas as pd\n",
    "import numpy as np\n",
    "import matplotlib.pyplot as plt\n",
    "%matplotlib inline\n",
    "import seaborn as sns\n",
    "from imblearn.over_sampling import RandomOverSampler\n",
    "from imblearn.under_sampling import RandomUnderSampler"
   ]
  },
  {
   "cell_type": "markdown",
   "id": "ac8f8444",
   "metadata": {},
   "source": [
    "# Preprocesamiento"
   ]
  },
  {
   "cell_type": "code",
   "execution_count": 8,
   "id": "f33f62e5",
   "metadata": {},
   "outputs": [
    {
     "data": {
      "text/html": [
       "<div>\n",
       "<style scoped>\n",
       "    .dataframe tbody tr th:only-of-type {\n",
       "        vertical-align: middle;\n",
       "    }\n",
       "\n",
       "    .dataframe tbody tr th {\n",
       "        vertical-align: top;\n",
       "    }\n",
       "\n",
       "    .dataframe thead th {\n",
       "        text-align: right;\n",
       "    }\n",
       "</style>\n",
       "<table border=\"1\" class=\"dataframe\">\n",
       "  <thead>\n",
       "    <tr style=\"text-align: right;\">\n",
       "      <th></th>\n",
       "      <th>Customer_care_calls</th>\n",
       "      <th>Customer_rating</th>\n",
       "      <th>Cost_of_the_Product</th>\n",
       "      <th>Prior_purchases</th>\n",
       "      <th>Discount_offered</th>\n",
       "      <th>Weight_in_gms</th>\n",
       "      <th>Reached.on.Time_Y.N</th>\n",
       "      <th>Warehouse_block_B</th>\n",
       "      <th>Warehouse_block_C</th>\n",
       "      <th>Warehouse_block_D</th>\n",
       "      <th>Warehouse_block_F</th>\n",
       "      <th>Mode_of_Shipment_Road</th>\n",
       "      <th>Mode_of_Shipment_Ship</th>\n",
       "      <th>Product_importance_low</th>\n",
       "      <th>Product_importance_medium</th>\n",
       "      <th>Gender_M</th>\n",
       "    </tr>\n",
       "    <tr>\n",
       "      <th>ID</th>\n",
       "      <th></th>\n",
       "      <th></th>\n",
       "      <th></th>\n",
       "      <th></th>\n",
       "      <th></th>\n",
       "      <th></th>\n",
       "      <th></th>\n",
       "      <th></th>\n",
       "      <th></th>\n",
       "      <th></th>\n",
       "      <th></th>\n",
       "      <th></th>\n",
       "      <th></th>\n",
       "      <th></th>\n",
       "      <th></th>\n",
       "      <th></th>\n",
       "    </tr>\n",
       "  </thead>\n",
       "  <tbody>\n",
       "    <tr>\n",
       "      <th>1</th>\n",
       "      <td>4</td>\n",
       "      <td>2</td>\n",
       "      <td>177</td>\n",
       "      <td>3</td>\n",
       "      <td>44</td>\n",
       "      <td>1233</td>\n",
       "      <td>1</td>\n",
       "      <td>False</td>\n",
       "      <td>False</td>\n",
       "      <td>True</td>\n",
       "      <td>False</td>\n",
       "      <td>False</td>\n",
       "      <td>False</td>\n",
       "      <td>True</td>\n",
       "      <td>False</td>\n",
       "      <td>False</td>\n",
       "    </tr>\n",
       "    <tr>\n",
       "      <th>2</th>\n",
       "      <td>4</td>\n",
       "      <td>5</td>\n",
       "      <td>216</td>\n",
       "      <td>2</td>\n",
       "      <td>59</td>\n",
       "      <td>3088</td>\n",
       "      <td>1</td>\n",
       "      <td>False</td>\n",
       "      <td>False</td>\n",
       "      <td>False</td>\n",
       "      <td>True</td>\n",
       "      <td>False</td>\n",
       "      <td>False</td>\n",
       "      <td>True</td>\n",
       "      <td>False</td>\n",
       "      <td>True</td>\n",
       "    </tr>\n",
       "    <tr>\n",
       "      <th>3</th>\n",
       "      <td>2</td>\n",
       "      <td>2</td>\n",
       "      <td>183</td>\n",
       "      <td>4</td>\n",
       "      <td>48</td>\n",
       "      <td>3374</td>\n",
       "      <td>1</td>\n",
       "      <td>False</td>\n",
       "      <td>False</td>\n",
       "      <td>False</td>\n",
       "      <td>False</td>\n",
       "      <td>False</td>\n",
       "      <td>False</td>\n",
       "      <td>True</td>\n",
       "      <td>False</td>\n",
       "      <td>True</td>\n",
       "    </tr>\n",
       "  </tbody>\n",
       "</table>\n",
       "</div>"
      ],
      "text/plain": [
       "    Customer_care_calls  Customer_rating  Cost_of_the_Product  \\\n",
       "ID                                                              \n",
       "1                     4                2                  177   \n",
       "2                     4                5                  216   \n",
       "3                     2                2                  183   \n",
       "\n",
       "    Prior_purchases  Discount_offered  Weight_in_gms  Reached.on.Time_Y.N  \\\n",
       "ID                                                                          \n",
       "1                 3                44           1233                    1   \n",
       "2                 2                59           3088                    1   \n",
       "3                 4                48           3374                    1   \n",
       "\n",
       "    Warehouse_block_B  Warehouse_block_C  Warehouse_block_D  \\\n",
       "ID                                                            \n",
       "1               False              False               True   \n",
       "2               False              False              False   \n",
       "3               False              False              False   \n",
       "\n",
       "    Warehouse_block_F  Mode_of_Shipment_Road  Mode_of_Shipment_Ship  \\\n",
       "ID                                                                    \n",
       "1               False                  False                  False   \n",
       "2                True                  False                  False   \n",
       "3               False                  False                  False   \n",
       "\n",
       "    Product_importance_low  Product_importance_medium  Gender_M  \n",
       "ID                                                               \n",
       "1                     True                      False     False  \n",
       "2                     True                      False      True  \n",
       "3                     True                      False      True  "
      ]
     },
     "execution_count": 8,
     "metadata": {},
     "output_type": "execute_result"
    }
   ],
   "source": [
    "df = pd.read_csv('../Data/df.csv', index_col=0)\n",
    "df.head(3)"
   ]
  },
  {
   "cell_type": "code",
   "execution_count": 9,
   "id": "638b9016",
   "metadata": {},
   "outputs": [
    {
     "name": "stdout",
     "output_type": "stream",
     "text": [
      "<class 'pandas.core.frame.DataFrame'>\n",
      "Index: 10999 entries, 1 to 10999\n",
      "Data columns (total 16 columns):\n",
      " #   Column                     Non-Null Count  Dtype\n",
      "---  ------                     --------------  -----\n",
      " 0   Customer_care_calls        10999 non-null  int64\n",
      " 1   Customer_rating            10999 non-null  int64\n",
      " 2   Cost_of_the_Product        10999 non-null  int64\n",
      " 3   Prior_purchases            10999 non-null  int64\n",
      " 4   Discount_offered           10999 non-null  int64\n",
      " 5   Weight_in_gms              10999 non-null  int64\n",
      " 6   Reached.on.Time_Y.N        10999 non-null  int64\n",
      " 7   Warehouse_block_B          10999 non-null  bool \n",
      " 8   Warehouse_block_C          10999 non-null  bool \n",
      " 9   Warehouse_block_D          10999 non-null  bool \n",
      " 10  Warehouse_block_F          10999 non-null  bool \n",
      " 11  Mode_of_Shipment_Road      10999 non-null  bool \n",
      " 12  Mode_of_Shipment_Ship      10999 non-null  bool \n",
      " 13  Product_importance_low     10999 non-null  bool \n",
      " 14  Product_importance_medium  10999 non-null  bool \n",
      " 15  Gender_M                   10999 non-null  bool \n",
      "dtypes: bool(9), int64(7)\n",
      "memory usage: 784.1 KB\n"
     ]
    }
   ],
   "source": [
    "df.info()"
   ]
  },
  {
   "cell_type": "code",
   "execution_count": 10,
   "id": "bba88752",
   "metadata": {},
   "outputs": [
    {
     "data": {
      "text/plain": [
       "Reached.on.Time_Y.N\n",
       "1    6563\n",
       "0    4436\n",
       "Name: count, dtype: int64"
      ]
     },
     "execution_count": 10,
     "metadata": {},
     "output_type": "execute_result"
    }
   ],
   "source": [
    "df['Reached.on.Time_Y.N'].value_counts()"
   ]
  },
  {
   "cell_type": "code",
   "execution_count": 11,
   "id": "105c733d",
   "metadata": {},
   "outputs": [],
   "source": [
    "X = df.drop(columns=['Reached.on.Time_Y.N'])\n",
    "y = df['Reached.on.Time_Y.N']"
   ]
  },
  {
   "cell_type": "markdown",
   "id": "84d7017d",
   "metadata": {},
   "source": [
    "# FLAML"
   ]
  },
  {
   "cell_type": "code",
   "execution_count": 22,
   "id": "d2708fcb",
   "metadata": {},
   "outputs": [],
   "source": [
    "RANDOM_STATE = 22"
   ]
  },
  {
   "cell_type": "code",
   "execution_count": 25,
   "id": "c82b6a74",
   "metadata": {},
   "outputs": [
    {
     "name": "stdout",
     "output_type": "stream",
     "text": [
      "✅ Accuracy: 0.6745\n",
      "✅ Precision: 0.6953\n",
      "✅ Recall: 0.6745\n",
      "✅ F1-score: 0.6781\n",
      "\n",
      "--- Classification Report ---\n",
      "              precision    recall  f1-score   support\n",
      "\n",
      "           0       0.57      0.72      0.64       872\n",
      "           1       0.78      0.65      0.71      1328\n",
      "\n",
      "    accuracy                           0.67      2200\n",
      "   macro avg       0.67      0.68      0.67      2200\n",
      "weighted avg       0.70      0.67      0.68      2200\n",
      "\n",
      "\n",
      "--- Confusion Matrix ---\n",
      "[[625 247]\n",
      " [469 859]]\n",
      "\n",
      "--- Mejor modelo ---\n",
      "xgboost\n",
      "{'n_estimators': 4, 'max_leaves': 5, 'min_child_weight': np.float64(1.6452423122285615), 'learning_rate': np.float64(0.21955330141120502), 'subsample': 1.0, 'colsample_bylevel': 1.0, 'colsample_bytree': 1.0, 'reg_alpha': np.float64(0.0017957174943059567), 'reg_lambda': np.float64(0.7298481028528299)}\n",
      "Best accuracy (cv): 0.2541\n"
     ]
    }
   ],
   "source": [
    "from flaml import AutoML\n",
    "from sklearn.metrics import accuracy_score, precision_score, recall_score, f1_score, confusion_matrix, classification_report\n",
    "\n",
    "# Entrenamiento\n",
    "automl = AutoML(random_state=RANDOM_STATE)\n",
    "automl.fit(X_train, y_train, task=\"classification\", time_budget=60, verbose=0, seed=RANDOM_STATE)\n",
    "\n",
    "# Predicciones\n",
    "y_pred = automl.predict(X_test)\n",
    "\n",
    "# Probabilidades (opcional, si tu modelo las soporta)\n",
    "y_proba = automl.predict_proba(X_test)\n",
    "\n",
    "# Métricas principales\n",
    "accuracy = accuracy_score(y_test, y_pred)\n",
    "precision = precision_score(y_test, y_pred, average='weighted')\n",
    "recall = recall_score(y_test, y_pred, average='weighted')\n",
    "f1 = f1_score(y_test, y_pred, average='weighted')\n",
    "\n",
    "print(f\"✅ Accuracy: {accuracy:.4f}\")\n",
    "print(f\"✅ Precision: {precision:.4f}\")\n",
    "print(f\"✅ Recall: {recall:.4f}\")\n",
    "print(f\"✅ F1-score: {f1:.4f}\")\n",
    "\n",
    "# Reporte más completo\n",
    "print(\"\\n--- Classification Report ---\")\n",
    "print(classification_report(y_test, y_pred))\n",
    "\n",
    "# Matriz de confusión\n",
    "print(\"\\n--- Confusion Matrix ---\")\n",
    "print(confusion_matrix(y_test, y_pred))\n",
    "\n",
    "# Mejor modelo encontrado\n",
    "print(\"\\n--- Mejor modelo ---\")\n",
    "print(automl.best_estimator)\n",
    "#print(automl.best_model)\n",
    "print(automl.best_config)\n",
    "print(f\"Best accuracy (cv): {automl.best_loss:.4f}\")\n"
   ]
  },
  {
   "cell_type": "code",
   "execution_count": 26,
   "id": "eaac0daa",
   "metadata": {},
   "outputs": [
    {
     "name": "stdout",
     "output_type": "stream",
     "text": [
      "\n",
      "🔹 RandomUnderSampler: distribución original Counter({1: 5235, 0: 3564}) → nueva Counter({0: 3564, 1: 3564})\n",
      "✅ Accuracy: 0.6809 | Precision: 0.8115 | Recall: 0.6809 | F1: 0.6710\n",
      "              precision    recall  f1-score   support\n",
      "\n",
      "           0       0.55      0.99      0.71       872\n",
      "           1       0.98      0.48      0.65      1328\n",
      "\n",
      "    accuracy                           0.68      2200\n",
      "   macro avg       0.77      0.73      0.68      2200\n",
      "weighted avg       0.81      0.68      0.67      2200\n",
      "\n",
      "[[859  13]\n",
      " [689 639]]\n",
      "Mejor modelo: rf\n",
      "\n",
      "🔹 RandomOverSampler: distribución original Counter({1: 5235, 0: 3564}) → nueva Counter({1: 5235, 0: 5235})\n",
      "✅ Accuracy: 0.6491 | Precision: 0.6578 | Recall: 0.6491 | F1: 0.6519\n",
      "              precision    recall  f1-score   support\n",
      "\n",
      "           0       0.55      0.62      0.58       872\n",
      "           1       0.73      0.67      0.70      1328\n",
      "\n",
      "    accuracy                           0.65      2200\n",
      "   macro avg       0.64      0.64      0.64      2200\n",
      "weighted avg       0.66      0.65      0.65      2200\n",
      "\n",
      "[[540 332]\n",
      " [440 888]]\n",
      "Mejor modelo: xgb_limitdepth\n"
     ]
    }
   ],
   "source": [
    "from flaml import AutoML\n",
    "from sklearn.metrics import accuracy_score, precision_score, recall_score, f1_score, classification_report, confusion_matrix\n",
    "from imblearn.under_sampling import RandomUnderSampler\n",
    "from imblearn.over_sampling import RandomOverSampler\n",
    "from collections import Counter\n",
    "\n",
    "def evaluate_sampling(X_train, y_train, X_test, y_test, sampler_name, sampler):\n",
    "    # Aplicar sampling\n",
    "    X_res, y_res = sampler.fit_resample(X_train, y_train)\n",
    "    print(f\"\\n🔹 {sampler_name}: distribución original {Counter(y_train)} → nueva {Counter(y_res)}\")\n",
    "\n",
    "    # Entrenar modelo\n",
    "    automl = AutoML()\n",
    "    automl.fit(X_res, y_res, task=\"classification\", time_budget=60, verbose=0, seed=RANDOM_STATE)\n",
    "\n",
    "    # Predicciones\n",
    "    y_pred = automl.predict(X_test)\n",
    "\n",
    "    # Métricas\n",
    "    acc = accuracy_score(y_test, y_pred)\n",
    "    prec = precision_score(y_test, y_pred, average='weighted')\n",
    "    rec = recall_score(y_test, y_pred, average='weighted')\n",
    "    f1 = f1_score(y_test, y_pred, average='weighted')\n",
    "\n",
    "    print(f\"✅ Accuracy: {acc:.4f} | Precision: {prec:.4f} | Recall: {rec:.4f} | F1: {f1:.4f}\")\n",
    "    print(classification_report(y_test, y_pred, zero_division=0))\n",
    "    print(confusion_matrix(y_test, y_pred))\n",
    "    print(f\"Mejor modelo: {automl.best_estimator}\")\n",
    "\n",
    "    return automl\n",
    "\n",
    "\n",
    "# --- Random UnderSampling ---\n",
    "rus = RandomUnderSampler(random_state=42)\n",
    "automl_rus = evaluate_sampling(X_train, y_train, X_test, y_test, \"RandomUnderSampler\", rus)\n",
    "\n",
    "# --- Random OverSampling ---\n",
    "ros = RandomOverSampler(random_state=42)\n",
    "automl_ros =evaluate_sampling(X_train, y_train, X_test, y_test, \"RandomOverSampler\", ros)\n"
   ]
  },
  {
   "cell_type": "code",
   "execution_count": null,
   "id": "f2ca5efb",
   "metadata": {},
   "outputs": [],
   "source": [
    "import joblib \n",
    "\n",
    "joblib.dump(automl_rus, 'automl_rus.pkl')\n",
    "joblib.dump(automl_ros, 'automl_ros.pkl')"
   ]
  },
  {
   "cell_type": "code",
   "execution_count": null,
   "id": "56f89204",
   "metadata": {},
   "outputs": [],
   "source": []
  },
  {
   "cell_type": "markdown",
   "id": "4a8c1ca9",
   "metadata": {},
   "source": [
    "# LazyClassifier"
   ]
  },
  {
   "cell_type": "code",
   "execution_count": 31,
   "id": "9ca069a7",
   "metadata": {},
   "outputs": [],
   "source": [
    "X_train_rus, y_train_rus = rus.fit_resample(X_train, y_train)"
   ]
  },
  {
   "cell_type": "code",
   "execution_count": 32,
   "id": "693cf236",
   "metadata": {},
   "outputs": [
    {
     "data": {
      "application/vnd.jupyter.widget-view+json": {
       "model_id": "d8d2251f0c6f4325a22ffe2e4f3ea8dd",
       "version_major": 2,
       "version_minor": 0
      },
      "text/plain": [
       "  0%|          | 0/32 [00:00<?, ?it/s]"
      ]
     },
     "metadata": {},
     "output_type": "display_data"
    },
    {
     "name": "stdout",
     "output_type": "stream",
     "text": [
      "                               Accuracy  Balanced Accuracy  ROC AUC  F1 Score  \\\n",
      "Model                                                                           \n",
      "SVC                                0.68               0.73     0.73      0.66   \n",
      "BernoulliNB                        0.68               0.72     0.72      0.67   \n",
      "LGBMClassifier                     0.68               0.72     0.72      0.68   \n",
      "QuadraticDiscriminantAnalysis      0.66               0.72     0.72      0.65   \n",
      "RandomForestClassifier             0.68               0.71     0.71      0.67   \n",
      "GaussianNB                         0.64               0.71     0.71      0.63   \n",
      "AdaBoostClassifier                 0.64               0.70     0.70      0.62   \n",
      "ExtraTreesClassifier               0.67               0.70     0.70      0.67   \n",
      "NuSVC                              0.67               0.70     0.70      0.67   \n",
      "BaggingClassifier                  0.67               0.70     0.70      0.67   \n",
      "RidgeClassifierCV                  0.65               0.70     0.70      0.64   \n",
      "LinearDiscriminantAnalysis         0.65               0.70     0.70      0.64   \n",
      "RidgeClassifier                    0.65               0.70     0.70      0.64   \n",
      "XGBClassifier                      0.67               0.69     0.69      0.67   \n",
      "NearestCentroid                    0.65               0.69     0.69      0.65   \n",
      "KNeighborsClassifier               0.67               0.69     0.69      0.67   \n",
      "LinearSVC                          0.64               0.68     0.68      0.64   \n",
      "PassiveAggressiveClassifier        0.67               0.68     0.68      0.67   \n",
      "SGDClassifier                      0.66               0.68     0.68      0.66   \n",
      "LogisticRegression                 0.64               0.68     0.68      0.64   \n",
      "CalibratedClassifierCV             0.64               0.67     0.67      0.64   \n",
      "LabelPropagation                   0.65               0.67     0.67      0.66   \n",
      "LabelSpreading                     0.65               0.67     0.67      0.65   \n",
      "ExtraTreeClassifier                0.66               0.66     0.66      0.66   \n",
      "DecisionTreeClassifier             0.65               0.64     0.64      0.65   \n",
      "Perceptron                         0.52               0.53     0.53      0.52   \n",
      "DummyClassifier                    0.40               0.50     0.50      0.23   \n",
      "\n",
      "                               Time Taken  \n",
      "Model                                      \n",
      "SVC                                  3.22  \n",
      "BernoulliNB                          0.06  \n",
      "LGBMClassifier                       1.20  \n",
      "QuadraticDiscriminantAnalysis        0.02  \n",
      "RandomForestClassifier               1.35  \n",
      "GaussianNB                           0.02  \n",
      "AdaBoostClassifier                   0.29  \n",
      "ExtraTreesClassifier                 0.95  \n",
      "NuSVC                                8.48  \n",
      "BaggingClassifier                    0.71  \n",
      "RidgeClassifierCV                    0.03  \n",
      "LinearDiscriminantAnalysis           0.04  \n",
      "RidgeClassifier                      0.03  \n",
      "XGBClassifier                        0.46  \n",
      "NearestCentroid                      0.03  \n",
      "KNeighborsClassifier                 0.13  \n",
      "LinearSVC                            0.03  \n",
      "PassiveAggressiveClassifier          0.02  \n",
      "SGDClassifier                        0.08  \n",
      "LogisticRegression                   0.03  \n",
      "CalibratedClassifierCV               0.15  \n",
      "LabelPropagation                     1.81  \n",
      "LabelSpreading                       4.65  \n",
      "ExtraTreeClassifier                  0.04  \n",
      "DecisionTreeClassifier               0.11  \n",
      "Perceptron                           0.02  \n",
      "DummyClassifier                      0.05  \n"
     ]
    }
   ],
   "source": [
    "clf = LazyClassifier(verbose=0, ignore_warnings=True, custom_metric=None, random_state=RANDOM_STATE)\n",
    "models, predictions = clf.fit(X_train_rus, X_test, y_train_rus, y_test)\n",
    "\n",
    "print(models)"
   ]
  },
  {
   "cell_type": "code",
   "execution_count": 39,
   "id": "ec235df0",
   "metadata": {},
   "outputs": [
    {
     "data": {
      "text/plain": [
       "['lc.pkl']"
      ]
     },
     "execution_count": 39,
     "metadata": {},
     "output_type": "execute_result"
    }
   ],
   "source": [
    "joblib.dump(clf, 'lc.pkl')"
   ]
  },
  {
   "cell_type": "code",
   "execution_count": null,
   "id": "01eecdf7",
   "metadata": {},
   "outputs": [],
   "source": []
  },
  {
   "cell_type": "markdown",
   "id": "19ff1455",
   "metadata": {},
   "source": [
    "# Pycaret"
   ]
  },
  {
   "cell_type": "code",
   "execution_count": null,
   "id": "5cc09675",
   "metadata": {},
   "outputs": [],
   "source": [
    "from pycaret.classification import *\n",
    "clf1 = setup(data, target = 'Purchase', session_id=123, log_experiment=True, experiment_name='juice1')"
   ]
  },
  {
   "cell_type": "markdown",
   "id": "c6638d1b",
   "metadata": {},
   "source": []
  }
 ],
 "metadata": {
  "kernelspec": {
   "display_name": ".venv",
   "language": "python",
   "name": "python3"
  },
  "language_info": {
   "codemirror_mode": {
    "name": "ipython",
    "version": 3
   },
   "file_extension": ".py",
   "mimetype": "text/x-python",
   "name": "python",
   "nbconvert_exporter": "python",
   "pygments_lexer": "ipython3",
   "version": "3.11.13"
  }
 },
 "nbformat": 4,
 "nbformat_minor": 5
}
